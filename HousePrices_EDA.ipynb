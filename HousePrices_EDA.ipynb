{
 "cells": [
  {
   "cell_type": "markdown",
   "id": "7721b6e6",
   "metadata": {},
   "source": [
    "# House Prices Exploratory Data Analysis\n",
    "\n",
    "This notebook will entail a detailed process of analysis & feature engineering in an attempt to build a Machine Learning model that accuractely predicts house prices.\n",
    "\n",
    "<b>@DanielBozinovski</b>"
   ]
  },
  {
   "cell_type": "markdown",
   "id": "90991038",
   "metadata": {},
   "source": [
    "# Steps to Perform:\n",
    "\n",
    "1. Clean Data [x]\n",
    "2. Explore Data\n",
    "3. Feature Engineering\n",
    "4. Create Model\n",
    "5. Make Predictions\n",
    "6. Test Predictions\n",
    "\n",
    "So now we are on to our exploratory data analysis!"
   ]
  },
  {
   "cell_type": "code",
   "execution_count": null,
   "id": "e28462bf",
   "metadata": {},
   "outputs": [],
   "source": []
  }
 ],
 "metadata": {
  "kernelspec": {
   "display_name": "Python 3",
   "language": "python",
   "name": "python3"
  },
  "language_info": {
   "codemirror_mode": {
    "name": "ipython",
    "version": 3
   },
   "file_extension": ".py",
   "mimetype": "text/x-python",
   "name": "python",
   "nbconvert_exporter": "python",
   "pygments_lexer": "ipython3",
   "version": "3.8.8"
  }
 },
 "nbformat": 4,
 "nbformat_minor": 5
}
