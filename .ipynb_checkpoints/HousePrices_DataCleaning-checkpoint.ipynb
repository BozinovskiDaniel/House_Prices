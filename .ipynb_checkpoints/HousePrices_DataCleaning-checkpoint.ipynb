{
 "cells": [
  {
   "cell_type": "markdown",
   "id": "14ad41e5",
   "metadata": {},
   "source": [
    "# House Prices Data Cleaning\n",
    "\n",
    "This notebook will entail cleaning the house prices data that I have scraped from domain.com.au.\n",
    "\n",
    "<b>@DanielBozinovski</b>"
   ]
  },
  {
   "cell_type": "markdown",
   "id": "75289970",
   "metadata": {},
   "source": [
    "### Things to Note from Scraping Data\n",
    "\n",
    "1. A lot of apartments did not provide a size in squared metres\n",
    "2. The region of all of these properties lies in New South Wales (NSW)\n",
    "3. The prices are littered of random text inside each from Domain so they will most likely require the most cleaning\n"
   ]
  },
  {
   "cell_type": "code",
   "execution_count": 26,
   "id": "42f4535c",
   "metadata": {},
   "outputs": [],
   "source": [
    "# Imports\n",
    "import numpy as np # linear algebra\n",
    "import pandas as pd # data processing\n",
    "import matplotlib.pyplot as plt # plotting\n",
    "import seaborn as sns\n",
    "%matplotlib inline"
   ]
  },
  {
   "cell_type": "code",
   "execution_count": 27,
   "id": "b2d4b429",
   "metadata": {},
   "outputs": [],
   "source": [
    "df = pd.read_csv(\"HouseData.csv\") # Read csv"
   ]
  },
  {
   "cell_type": "code",
   "execution_count": 28,
   "id": "a996736b",
   "metadata": {},
   "outputs": [
    {
     "data": {
      "text/html": [
       "<div>\n",
       "<style scoped>\n",
       "    .dataframe tbody tr th:only-of-type {\n",
       "        vertical-align: middle;\n",
       "    }\n",
       "\n",
       "    .dataframe tbody tr th {\n",
       "        vertical-align: top;\n",
       "    }\n",
       "\n",
       "    .dataframe thead th {\n",
       "        text-align: right;\n",
       "    }\n",
       "</style>\n",
       "<table border=\"1\" class=\"dataframe\">\n",
       "  <thead>\n",
       "    <tr style=\"text-align: right;\">\n",
       "      <th></th>\n",
       "      <th>Unnamed: 0</th>\n",
       "      <th>Price</th>\n",
       "      <th>Suburb</th>\n",
       "      <th>Region</th>\n",
       "      <th>Postcode</th>\n",
       "      <th>Address</th>\n",
       "      <th>Size (m^2)</th>\n",
       "      <th>Property Type</th>\n",
       "      <th>Beds</th>\n",
       "      <th>Baths</th>\n",
       "      <th>Parking</th>\n",
       "      <th>URL</th>\n",
       "    </tr>\n",
       "  </thead>\n",
       "  <tbody>\n",
       "    <tr>\n",
       "      <th>0</th>\n",
       "      <td>0</td>\n",
       "      <td>For Sale $1,500,000 - $1,600,000</td>\n",
       "      <td>ROSEBERY</td>\n",
       "      <td>NSW</td>\n",
       "      <td>2018</td>\n",
       "      <td>1703/4 Mentmore Avenue,</td>\n",
       "      <td>NaN</td>\n",
       "      <td>Apartment / Unit / Flat</td>\n",
       "      <td>3 Beds</td>\n",
       "      <td>2 Baths</td>\n",
       "      <td>2 Parking</td>\n",
       "      <td>https://www.domain.com.au/1703-4-mentmore-aven...</td>\n",
       "    </tr>\n",
       "    <tr>\n",
       "      <th>1</th>\n",
       "      <td>1</td>\n",
       "      <td>$570K TO $620K  ( SELLIG FAST - SPECTACULAR AP...</td>\n",
       "      <td>SCHOFIELDS</td>\n",
       "      <td>NSW</td>\n",
       "      <td>2762</td>\n",
       "      <td>NaN</td>\n",
       "      <td>NaN</td>\n",
       "      <td>New Apartments / Off the Plan</td>\n",
       "      <td>2 Beds</td>\n",
       "      <td>2 Baths</td>\n",
       "      <td>1 Parking</td>\n",
       "      <td>https://www.domain.com.au/schofields-nsw-2762-...</td>\n",
       "    </tr>\n",
       "    <tr>\n",
       "      <th>2</th>\n",
       "      <td>2</td>\n",
       "      <td>1 BED + STUDY  ( UNDER CONSTRUCTION NOW )</td>\n",
       "      <td>SCHOFIELDS</td>\n",
       "      <td>NSW</td>\n",
       "      <td>2762</td>\n",
       "      <td>NaN</td>\n",
       "      <td>NaN</td>\n",
       "      <td>New Apartments / Off the Plan</td>\n",
       "      <td>1 Bed</td>\n",
       "      <td>1 Bath</td>\n",
       "      <td>1 Parking</td>\n",
       "      <td>https://www.domain.com.au/schofields-nsw-2762-...</td>\n",
       "    </tr>\n",
       "    <tr>\n",
       "      <th>3</th>\n",
       "      <td>3</td>\n",
       "      <td>2 BEDROOM $570K ( SELLIG FAST - SPECTACULAR AP...</td>\n",
       "      <td>SCHOFIELDS</td>\n",
       "      <td>NSW</td>\n",
       "      <td>2762</td>\n",
       "      <td>NaN</td>\n",
       "      <td>NaN</td>\n",
       "      <td>New Apartments / Off the Plan</td>\n",
       "      <td>2 Beds</td>\n",
       "      <td>2 Baths</td>\n",
       "      <td>1 Parking</td>\n",
       "      <td>https://www.domain.com.au/schofields-nsw-2762-...</td>\n",
       "    </tr>\n",
       "    <tr>\n",
       "      <th>4</th>\n",
       "      <td>4</td>\n",
       "      <td>84 SQM INTERNAL  ( SELLIG FAST - SPECTACULAR A...</td>\n",
       "      <td>SCHOFIELDS</td>\n",
       "      <td>NSW</td>\n",
       "      <td>2762</td>\n",
       "      <td>NaN</td>\n",
       "      <td>NaN</td>\n",
       "      <td>New Apartments / Off the Plan</td>\n",
       "      <td>2 Beds</td>\n",
       "      <td>2 Baths</td>\n",
       "      <td>1 Parking</td>\n",
       "      <td>https://www.domain.com.au/schofields-nsw-2762-...</td>\n",
       "    </tr>\n",
       "  </tbody>\n",
       "</table>\n",
       "</div>"
      ],
      "text/plain": [
       "   Unnamed: 0                                              Price      Suburb  \\\n",
       "0           0                  For Sale $1,500,000 - $1,600,000     ROSEBERY   \n",
       "1           1  $570K TO $620K  ( SELLIG FAST - SPECTACULAR AP...  SCHOFIELDS   \n",
       "2           2         1 BED + STUDY  ( UNDER CONSTRUCTION NOW )   SCHOFIELDS   \n",
       "3           3  2 BEDROOM $570K ( SELLIG FAST - SPECTACULAR AP...  SCHOFIELDS   \n",
       "4           4  84 SQM INTERNAL  ( SELLIG FAST - SPECTACULAR A...  SCHOFIELDS   \n",
       "\n",
       "  Region  Postcode                   Address Size (m^2)  \\\n",
       "0    NSW      2018  1703/4 Mentmore Avenue,         NaN   \n",
       "1    NSW      2762                       NaN        NaN   \n",
       "2    NSW      2762                       NaN        NaN   \n",
       "3    NSW      2762                       NaN        NaN   \n",
       "4    NSW      2762                       NaN        NaN   \n",
       "\n",
       "                   Property Type    Beds    Baths    Parking  \\\n",
       "0        Apartment / Unit / Flat  3 Beds  2 Baths  2 Parking   \n",
       "1  New Apartments / Off the Plan  2 Beds  2 Baths  1 Parking   \n",
       "2  New Apartments / Off the Plan   1 Bed   1 Bath  1 Parking   \n",
       "3  New Apartments / Off the Plan  2 Beds  2 Baths  1 Parking   \n",
       "4  New Apartments / Off the Plan  2 Beds  2 Baths  1 Parking   \n",
       "\n",
       "                                                 URL  \n",
       "0  https://www.domain.com.au/1703-4-mentmore-aven...  \n",
       "1  https://www.domain.com.au/schofields-nsw-2762-...  \n",
       "2  https://www.domain.com.au/schofields-nsw-2762-...  \n",
       "3  https://www.domain.com.au/schofields-nsw-2762-...  \n",
       "4  https://www.domain.com.au/schofields-nsw-2762-...  "
      ]
     },
     "execution_count": 28,
     "metadata": {},
     "output_type": "execute_result"
    }
   ],
   "source": [
    "df.head()"
   ]
  },
  {
   "cell_type": "code",
   "execution_count": 29,
   "id": "41f144e3",
   "metadata": {},
   "outputs": [
    {
     "data": {
      "text/plain": [
       "Unnamed: 0         0\n",
       "Price              0\n",
       "Suburb             0\n",
       "Region             0\n",
       "Postcode           0\n",
       "Address          100\n",
       "Size (m^2)       615\n",
       "Property Type      0\n",
       "Beds               3\n",
       "Baths              3\n",
       "Parking            3\n",
       "URL                0\n",
       "dtype: int64"
      ]
     },
     "execution_count": 29,
     "metadata": {},
     "output_type": "execute_result"
    }
   ],
   "source": [
    "# Check what features have missing values\n",
    "df.isnull().sum()"
   ]
  },
  {
   "cell_type": "markdown",
   "id": "a5d5701f",
   "metadata": {},
   "source": [
    "We see our note from the beginning is proven correct, with a large portion of the missing data begin from the size."
   ]
  },
  {
   "cell_type": "code",
   "execution_count": 30,
   "id": "02356c21",
   "metadata": {},
   "outputs": [
    {
     "data": {
      "text/plain": [
       "685"
      ]
     },
     "execution_count": 30,
     "metadata": {},
     "output_type": "execute_result"
    }
   ],
   "source": [
    "# Get data with empty values\n",
    "dataWithEmptyValues = df[df.isnull().any(axis=1)]\n",
    "len(dataWithEmptyValues)"
   ]
  },
  {
   "cell_type": "code",
   "execution_count": 31,
   "id": "1d2bd08a",
   "metadata": {},
   "outputs": [
    {
     "data": {
      "text/plain": [
       "Apartment / Unit / Flat          381\n",
       "House                            147\n",
       "House & Land                      58\n",
       "New Apartments / Off the Plan     38\n",
       "Villa                             24\n",
       "Retirement Living                 12\n",
       "Semi-Detached                     11\n",
       "Duplex                             5\n",
       "Studio                             5\n",
       "Terrace                            2\n",
       "Block of Units                     2\n",
       "Name: Property Type, dtype: int64"
      ]
     },
     "execution_count": 31,
     "metadata": {},
     "output_type": "execute_result"
    }
   ],
   "source": [
    "# Look at the amounts that each property type has missing data\n",
    "propertyAmounts = dataWithEmptyValues['Property Type'].value_counts()\n",
    "propertyAmounts"
   ]
  },
  {
   "cell_type": "code",
   "execution_count": 32,
   "id": "56fa6dd2",
   "metadata": {},
   "outputs": [
    {
     "data": {
      "text/plain": [
       "<AxesSubplot:xlabel='count', ylabel='Property Type'>"
      ]
     },
     "execution_count": 32,
     "metadata": {},
     "output_type": "execute_result"
    },
    {
     "data": {
      "image/png": "[encoded data removed]",
      "text/plain": [
       "<Figure size 1296x504 with 1 Axes>"
      ]
     },
     "metadata": {
      "needs_background": "light"
     },
     "output_type": "display_data"
    }
   ],
   "source": [
    "# Plot the figure above\n",
    "fig, ax = plt.subplots(1, 1, figsize=(18, 7))\n",
    "sns.countplot(y=\"Property Type\", data=dataWithEmptyValues)"
   ]
  },
  {
   "cell_type": "markdown",
   "id": "9ffedffe",
   "metadata": {},
   "source": [
    "We note that most of the empty values are coming from a property with type Apartment/Unit/Flat. The type of data missing was the size in squared metres."
   ]
  },
  {
   "cell_type": "markdown",
   "id": "cd5c6697",
   "metadata": {},
   "source": [
    "# Begin Cleaning"
   ]
  },
  {
   "cell_type": "markdown",
   "id": "49df7cbc",
   "metadata": {},
   "source": [
    "## Feature 1: Price"
   ]
  },
  {
   "cell_type": "code",
   "execution_count": 34,
   "id": "e0b8c08a",
   "metadata": {},
   "outputs": [
    {
     "data": {
      "text/plain": [
       "0                       For Sale $1,500,000 - $1,600,000 \n",
       "1       $570K TO $620K  ( SELLIG FAST - SPECTACULAR AP...\n",
       "2              1 BED + STUDY  ( UNDER CONSTRUCTION NOW ) \n",
       "3       2 BEDROOM $570K ( SELLIG FAST - SPECTACULAR AP...\n",
       "4       84 SQM INTERNAL  ( SELLIG FAST - SPECTACULAR A...\n",
       "                              ...                        \n",
       "1479                                    Guide $2,550,000 \n",
       "1480                                             AUCTION \n",
       "1481                                 $345,000 - $365,000 \n",
       "1482                         Fully Renovated Family Home \n",
       "1483                             AUCTION | Chris Kounnas \n",
       "Name: Price, Length: 1484, dtype: object"
      ]
     },
     "execution_count": 34,
     "metadata": {},
     "output_type": "execute_result"
    }
   ],
   "source": [
    "prices = df['Price']\n",
    "prices"
   ]
  },
  {
   "cell_type": "code",
   "execution_count": 35,
   "id": "cba1b7fc",
   "metadata": {},
   "outputs": [
    {
     "data": {
      "text/plain": [
       "0"
      ]
     },
     "execution_count": 35,
     "metadata": {},
     "output_type": "execute_result"
    }
   ],
   "source": [
    "# Check how many are empty\n",
    "prices.isnull().sum()"
   ]
  },
  {
   "cell_type": "markdown",
   "id": "2a63d774",
   "metadata": {},
   "source": [
    "As price is our desired output variable, it is extremely important to have data for all fields. In the case that we don't have any actual price data, we will choose to remove it, else we will convert the number into an integer.\n",
    "\n",
    "If a range is given, we will return the mean of the two numbers, as an estimate of the price of the property."
   ]
  },
  {
   "cell_type": "code",
   "execution_count": 62,
   "id": "6cc9bf18",
   "metadata": {},
   "outputs": [
    {
     "data": {
      "text/html": [
       "<div>\n",
       "<style scoped>\n",
       "    .dataframe tbody tr th:only-of-type {\n",
       "        vertical-align: middle;\n",
       "    }\n",
       "\n",
       "    .dataframe tbody tr th {\n",
       "        vertical-align: top;\n",
       "    }\n",
       "\n",
       "    .dataframe thead th {\n",
       "        text-align: right;\n",
       "    }\n",
       "</style>\n",
       "<table border=\"1\" class=\"dataframe\">\n",
       "  <thead>\n",
       "    <tr style=\"text-align: right;\">\n",
       "      <th></th>\n",
       "      <th>Unnamed: 0</th>\n",
       "      <th>Price</th>\n",
       "      <th>Suburb</th>\n",
       "      <th>Region</th>\n",
       "      <th>Postcode</th>\n",
       "      <th>Address</th>\n",
       "      <th>Size (m^2)</th>\n",
       "      <th>Property Type</th>\n",
       "      <th>Beds</th>\n",
       "      <th>Baths</th>\n",
       "      <th>Parking</th>\n",
       "      <th>URL</th>\n",
       "    </tr>\n",
       "  </thead>\n",
       "  <tbody>\n",
       "    <tr>\n",
       "      <th>0</th>\n",
       "      <td>0</td>\n",
       "      <td>For Sale $1,500,000 - $1,600,000</td>\n",
       "      <td>ROSEBERY</td>\n",
       "      <td>NSW</td>\n",
       "      <td>2018</td>\n",
       "      <td>1703/4 Mentmore Avenue,</td>\n",
       "      <td>NaN</td>\n",
       "      <td>Apartment / Unit / Flat</td>\n",
       "      <td>3 Beds</td>\n",
       "      <td>2 Baths</td>\n",
       "      <td>2 Parking</td>\n",
       "      <td>https://www.domain.com.au/1703-4-mentmore-aven...</td>\n",
       "    </tr>\n",
       "    <tr>\n",
       "      <th>1</th>\n",
       "      <td>1</td>\n",
       "      <td>$570K TO $620K  ( SELLIG FAST - SPECTACULAR AP...</td>\n",
       "      <td>SCHOFIELDS</td>\n",
       "      <td>NSW</td>\n",
       "      <td>2762</td>\n",
       "      <td>NaN</td>\n",
       "      <td>NaN</td>\n",
       "      <td>New Apartments / Off the Plan</td>\n",
       "      <td>2 Beds</td>\n",
       "      <td>2 Baths</td>\n",
       "      <td>1 Parking</td>\n",
       "      <td>https://www.domain.com.au/schofields-nsw-2762-...</td>\n",
       "    </tr>\n",
       "    <tr>\n",
       "      <th>2</th>\n",
       "      <td>2</td>\n",
       "      <td>1 BED + STUDY  ( UNDER CONSTRUCTION NOW )</td>\n",
       "      <td>SCHOFIELDS</td>\n",
       "      <td>NSW</td>\n",
       "      <td>2762</td>\n",
       "      <td>NaN</td>\n",
       "      <td>NaN</td>\n",
       "      <td>New Apartments / Off the Plan</td>\n",
       "      <td>1 Bed</td>\n",
       "      <td>1 Bath</td>\n",
       "      <td>1 Parking</td>\n",
       "      <td>https://www.domain.com.au/schofields-nsw-2762-...</td>\n",
       "    </tr>\n",
       "    <tr>\n",
       "      <th>3</th>\n",
       "      <td>3</td>\n",
       "      <td>2 BEDROOM $570K ( SELLIG FAST - SPECTACULAR AP...</td>\n",
       "      <td>SCHOFIELDS</td>\n",
       "      <td>NSW</td>\n",
       "      <td>2762</td>\n",
       "      <td>NaN</td>\n",
       "      <td>NaN</td>\n",
       "      <td>New Apartments / Off the Plan</td>\n",
       "      <td>2 Beds</td>\n",
       "      <td>2 Baths</td>\n",
       "      <td>1 Parking</td>\n",
       "      <td>https://www.domain.com.au/schofields-nsw-2762-...</td>\n",
       "    </tr>\n",
       "    <tr>\n",
       "      <th>4</th>\n",
       "      <td>4</td>\n",
       "      <td>84 SQM INTERNAL  ( SELLIG FAST - SPECTACULAR A...</td>\n",
       "      <td>SCHOFIELDS</td>\n",
       "      <td>NSW</td>\n",
       "      <td>2762</td>\n",
       "      <td>NaN</td>\n",
       "      <td>NaN</td>\n",
       "      <td>New Apartments / Off the Plan</td>\n",
       "      <td>2 Beds</td>\n",
       "      <td>2 Baths</td>\n",
       "      <td>1 Parking</td>\n",
       "      <td>https://www.domain.com.au/schofields-nsw-2762-...</td>\n",
       "    </tr>\n",
       "    <tr>\n",
       "      <th>...</th>\n",
       "      <td>...</td>\n",
       "      <td>...</td>\n",
       "      <td>...</td>\n",
       "      <td>...</td>\n",
       "      <td>...</td>\n",
       "      <td>...</td>\n",
       "      <td>...</td>\n",
       "      <td>...</td>\n",
       "      <td>...</td>\n",
       "      <td>...</td>\n",
       "      <td>...</td>\n",
       "      <td>...</td>\n",
       "    </tr>\n",
       "    <tr>\n",
       "      <th>1479</th>\n",
       "      <td>1479</td>\n",
       "      <td>Guide $2,550,000</td>\n",
       "      <td>NORTH MANLY</td>\n",
       "      <td>NSW</td>\n",
       "      <td>2100</td>\n",
       "      <td>42 Corrie Road,</td>\n",
       "      <td>404m²</td>\n",
       "      <td>House</td>\n",
       "      <td>4 Beds</td>\n",
       "      <td>2 Baths</td>\n",
       "      <td>2 Parking</td>\n",
       "      <td>https://www.domain.com.au/42-corrie-road-north...</td>\n",
       "    </tr>\n",
       "    <tr>\n",
       "      <th>1480</th>\n",
       "      <td>1480</td>\n",
       "      <td>AUCTION</td>\n",
       "      <td>GRIFFITH</td>\n",
       "      <td>NSW</td>\n",
       "      <td>2680</td>\n",
       "      <td>29a Konoa Street,</td>\n",
       "      <td>714m²</td>\n",
       "      <td>House</td>\n",
       "      <td>4 Beds</td>\n",
       "      <td>3 Baths</td>\n",
       "      <td>3 Parking</td>\n",
       "      <td>https://www.domain.com.au/29a-konoa-street-gri...</td>\n",
       "    </tr>\n",
       "    <tr>\n",
       "      <th>1481</th>\n",
       "      <td>1481</td>\n",
       "      <td>$345,000 - $365,000</td>\n",
       "      <td>CESSNOCK</td>\n",
       "      <td>NSW</td>\n",
       "      <td>2325</td>\n",
       "      <td>151 Alkira Avenue,</td>\n",
       "      <td>565m²</td>\n",
       "      <td>House</td>\n",
       "      <td>3 Beds</td>\n",
       "      <td>1 Bath</td>\n",
       "      <td>1 Parking</td>\n",
       "      <td>https://www.domain.com.au/151-alkira-avenue-ce...</td>\n",
       "    </tr>\n",
       "    <tr>\n",
       "      <th>1482</th>\n",
       "      <td>1482</td>\n",
       "      <td>Fully Renovated Family Home</td>\n",
       "      <td>NORTH ST MARYS</td>\n",
       "      <td>NSW</td>\n",
       "      <td>2760</td>\n",
       "      <td>1 Cypress Road,</td>\n",
       "      <td>538m²</td>\n",
       "      <td>House</td>\n",
       "      <td>4 Beds</td>\n",
       "      <td>2 Baths</td>\n",
       "      <td>2 Parking</td>\n",
       "      <td>https://www.domain.com.au/1-cypress-road-north...</td>\n",
       "    </tr>\n",
       "    <tr>\n",
       "      <th>1483</th>\n",
       "      <td>1483</td>\n",
       "      <td>AUCTION | Chris Kounnas</td>\n",
       "      <td>BEXLEY</td>\n",
       "      <td>NSW</td>\n",
       "      <td>2207</td>\n",
       "      <td>3/155 Queen Victoria  Street,</td>\n",
       "      <td>NaN</td>\n",
       "      <td>Villa</td>\n",
       "      <td>2 Beds</td>\n",
       "      <td>1 Bath</td>\n",
       "      <td>1 Parking</td>\n",
       "      <td>https://www.domain.com.au/3-155-queen-victoria...</td>\n",
       "    </tr>\n",
       "  </tbody>\n",
       "</table>\n",
       "<p>1484 rows × 12 columns</p>\n",
       "</div>"
      ],
      "text/plain": [
       "      Unnamed: 0                                              Price  \\\n",
       "0              0                  For Sale $1,500,000 - $1,600,000    \n",
       "1              1  $570K TO $620K  ( SELLIG FAST - SPECTACULAR AP...   \n",
       "2              2         1 BED + STUDY  ( UNDER CONSTRUCTION NOW )    \n",
       "3              3  2 BEDROOM $570K ( SELLIG FAST - SPECTACULAR AP...   \n",
       "4              4  84 SQM INTERNAL  ( SELLIG FAST - SPECTACULAR A...   \n",
       "...          ...                                                ...   \n",
       "1479        1479                                  Guide $2,550,000    \n",
       "1480        1480                                           AUCTION    \n",
       "1481        1481                               $345,000 - $365,000    \n",
       "1482        1482                       Fully Renovated Family Home    \n",
       "1483        1483                           AUCTION | Chris Kounnas    \n",
       "\n",
       "              Suburb Region  Postcode                         Address  \\\n",
       "0           ROSEBERY    NSW      2018        1703/4 Mentmore Avenue,    \n",
       "1         SCHOFIELDS    NSW      2762                             NaN   \n",
       "2         SCHOFIELDS    NSW      2762                             NaN   \n",
       "3         SCHOFIELDS    NSW      2762                             NaN   \n",
       "4         SCHOFIELDS    NSW      2762                             NaN   \n",
       "...              ...    ...       ...                             ...   \n",
       "1479     NORTH MANLY    NSW      2100                42 Corrie Road,    \n",
       "1480        GRIFFITH    NSW      2680              29a Konoa Street,    \n",
       "1481        CESSNOCK    NSW      2325             151 Alkira Avenue,    \n",
       "1482  NORTH ST MARYS    NSW      2760                1 Cypress Road,    \n",
       "1483          BEXLEY    NSW      2207  3/155 Queen Victoria  Street,    \n",
       "\n",
       "     Size (m^2)                  Property Type    Beds    Baths    Parking  \\\n",
       "0           NaN        Apartment / Unit / Flat  3 Beds  2 Baths  2 Parking   \n",
       "1           NaN  New Apartments / Off the Plan  2 Beds  2 Baths  1 Parking   \n",
       "2           NaN  New Apartments / Off the Plan   1 Bed   1 Bath  1 Parking   \n",
       "3           NaN  New Apartments / Off the Plan  2 Beds  2 Baths  1 Parking   \n",
       "4           NaN  New Apartments / Off the Plan  2 Beds  2 Baths  1 Parking   \n",
       "...         ...                            ...     ...      ...        ...   \n",
       "1479     404m²                           House  4 Beds  2 Baths  2 Parking   \n",
       "1480     714m²                           House  4 Beds  3 Baths  3 Parking   \n",
       "1481     565m²                           House  3 Beds   1 Bath  1 Parking   \n",
       "1482     538m²                           House  4 Beds  2 Baths  2 Parking   \n",
       "1483        NaN                          Villa  2 Beds   1 Bath  1 Parking   \n",
       "\n",
       "                                                    URL  \n",
       "0     https://www.domain.com.au/1703-4-mentmore-aven...  \n",
       "1     https://www.domain.com.au/schofields-nsw-2762-...  \n",
       "2     https://www.domain.com.au/schofields-nsw-2762-...  \n",
       "3     https://www.domain.com.au/schofields-nsw-2762-...  \n",
       "4     https://www.domain.com.au/schofields-nsw-2762-...  \n",
       "...                                                 ...  \n",
       "1479  https://www.domain.com.au/42-corrie-road-north...  \n",
       "1480  https://www.domain.com.au/29a-konoa-street-gri...  \n",
       "1481  https://www.domain.com.au/151-alkira-avenue-ce...  \n",
       "1482  https://www.domain.com.au/1-cypress-road-north...  \n",
       "1483  https://www.domain.com.au/3-155-queen-victoria...  \n",
       "\n",
       "[1484 rows x 12 columns]"
      ]
     },
     "execution_count": 62,
     "metadata": {},
     "output_type": "execute_result"
    }
   ],
   "source": [
    "# Drop all columns with no $ sign in price\n",
    "df[df['Price'].str.contains(\"$\")]"
   ]
  },
  {
   "cell_type": "code",
   "execution_count": 39,
   "id": "08a3f8d3",
   "metadata": {},
   "outputs": [],
   "source": [
    "def cleanPriceData(price):\n",
    "    \n",
    "    # First we check if there is a $ sign in the price\n",
    "    if \"$\" in price:\n",
    "        return price\n",
    "    "
   ]
  },
  {
   "cell_type": "code",
   "execution_count": 40,
   "id": "ad1d0dbb",
   "metadata": {},
   "outputs": [],
   "source": [
    "newPriceData = []\n",
    "\n",
    "for i in range(len(prices)):\n",
    "    \n",
    "    cleanedData = cleanPriceData(prices[i])\n",
    "    \n",
    "    if cleanedData:\n",
    "        newPriceData.append(cleanedData)"
   ]
  },
  {
   "cell_type": "code",
   "execution_count": 41,
   "id": "74262848",
   "metadata": {},
   "outputs": [
    {
     "data": {
      "text/plain": [
       "649"
      ]
     },
     "execution_count": 41,
     "metadata": {},
     "output_type": "execute_result"
    }
   ],
   "source": [
    "len(newPriceData)"
   ]
  },
  {
   "cell_type": "code",
   "execution_count": 42,
   "id": "bf1de4a2",
   "metadata": {},
   "outputs": [
    {
     "name": "stdout",
     "output_type": "stream",
     "text": [
      "['For Sale $1,500,000 - $1,600,000 ', '$570K TO $620K  ( SELLIG FAST - SPECTACULAR APARTMENTS ) ', '2 BEDROOM $570K ( SELLIG FAST - SPECTACULAR APARTMENTS ) ', '1 BED ( under $450k) ', '$829,990 ', '$885,000 ', 'Price Guide $650,000 ', 'Guide $620,000 ', 'Guide | $879,000 ', '$576,000 ', 'Price Guide: $600,000 to $612,000 ', '$530,000 - $560,000 ', '$420,000 - $450,000 ', '$550,000 - $600,000 ', 'Guide $580,000 ', 'Auction Guide $660,000 ', 'Price Guide $349,000- $395,000 ', 'Guide $550,000 | Call for Inspection ', '$329,000 - $339,000 ', '$749000 ', '$536,000 - $906,000 ', '$536,000 - $906,000 ', '$499,000 - $549,000 ', '$359,950 ', '$600,000 - $2,200,000 ', '606,000 - $800,000 ', 'buyers guide $695,000 ', 'Price Guide: $1,530,000 ', 'Buyers guide $800,000 ', 'Guide | $799,000 ', '$780,000 - $799,000 ', 'Price Guide $840,000 to $875,000 ', '$47,000 ', '$619,000 ', '$2,750,000 ', '$520,000 ', '$620,000 - $650,000 ', '$439,000 ', '$895,000 to $1,020,000 ', 'Price Guide $520,000 - $540,000 ', 'Price Guide $415,000 - $435,000 ', '$320,000 ', '$330,000 - $360,000 ', '$769,000 ', '$219,000 ', '$1,850,000 ', '$689,000 ', 'Auction Guide $1,650,000 to $1,815,000 ', '$595,000 ', '$618,000 With Negotiable ', 'STUDIO APARTMENT UNDER $400K I SELLING FAST ', 'STUDIO APARTMENT UNDER $400K I SELLING FAST ', 'By Appointment $650,000 ', 'FOR SALE $650,000 ', 'Brand New 2 Bed Apartments From $550,000 ', '$725,000 - BRAND NEW ', '$585,000 ', '$175,000 ', '$369,000 ', 'PRICE GUIDE $650,000 ', '$399,000 - $410,000 ', '$3,650,000 ', '$200,000 ', 'Auction \"Guide $765,000\" ', '$3,000,000 - $3,100,000 ', '$395.000 ', 'Price Guide $750,000 | MUST CALL TO INSPECT 1 ON 1 ', '$680,000 ', 'Buyers guide $1,300,000 ', 'Buyers guide $1,600,000 ', '$399,990 - Inspection By Appointment Only ', \"Buyer's Guide | $670,000 \", '$315,000 ', '$389,000 ', '$2,200,000 ', '$1,650,000 ', 'Buyers guide $1,300,000 ', '1 to 3 bedrooms from $759,000 to $3,990,000 still available ', '$480,000 ', 'Price Guide $1,195,000 ', 'Price Guide $1,800,000 ', 'Buyer Guide $1,750,000 ', '$700,000-750,000 Inspect by private appointment ', '1 to 3 bedrooms from $1,520,000 to $2,650,000 still available ', 'Price guide $410,000 ', 'Price Guide $800,000 - $850,000 ', '$419,950-$449,950 ', '$600,000 to $630,000 ', '$459,000 ', '1 and 2 bedrooms from $415,000 to $530,000 still available ', '$339,000 ', '460,000 to $505,000 ', 'Brand New 2 Bed Apartments From $550,000 ', '$369,950 /  HAMPDEN ROAD ', 'From $3,250,000 ', 'Guide $600,000 ', '$625,000 ', 'FOR SALE: $359,000 ', '$435,000 Negotiable!!! ', 'For Sale Guide $625,000 ', '$495,000 ', 'For Sale $500,000 - $550,000 ', '$395,000 ', '$359,950 ', 'Asking $499,000 ', '$480,000 - $530,000 ', 'AUCTION - GUIDE $950,000 ', '$585,000 ', '$319,000 ', '$409,000 - $449,000 ', 'Price Guide: $680,000 ', 'Buyer Guide $1,200,000 ', 'Bidding guide $950,000 ', '$1,325,000 Water Views! ', 'Buyers Guide $850,000 ', '$319,000 - $339,000 ', 'Auction Guide $775,000 ', '$495,000 ', '$349,000 - $379,000 ', 'Auction Guide $1,000,000 ', '$510,000 to $560,000 ', '$680,000 ', '$370,000 to $390,000 ', '$315,000 to $340,000 ', '$185,000 - $195,000 ', 'Auction: Guide $850,000 ', 'For Sale $750,000 - $800,000 ', '$435,000 to $455,000 ', '$389,000 - JOSEPH DAIDONE ', 'Offer from $600,000 ', 'Buyers guide $550,000 ', 'Auction Price Guide $690,000 ', 'Buyers guide $600,000 ', '$10,000,000 ', 'Guide $1,100,000 ', '$640,000 to $670,000 - Private Inspection Ok ', '$420,000 - $450,000 ', '$600,000 to $630,000 - Private Inspection Ok ', '$590,000 - $630,000 ', 'Price Guide: $595,000 ', 'Guide $450,000-$485,000 ', 'Auction Guide $750,000 ', 'Price Guide $600,000 ', 'Auction Guide $850,000 ', 'GUIDE $490,000 PRIVATE INSPECTIONS WELCOME ', 'For sale $629,000 ', '$439,000 ', 'Guide $440,000 - $480,000 ', 'Auction Guide $625,000 ', 'Guide $740,000 to $770,000 ', '$719,000 | 149sqm Penthouse ', 'Buyer Guide $1,050,000 ', '$275,000 - $285,000 ', '$760,000 ', '$429,000 ', 'Price Guide: $330,000 - $350,000 ', 'Guide $649,000 ', 'Auction Guide $625,000 ', 'Auction | Guide $2,175,000 ', '$595,000 - $630,000 ', 'Price Guide $750,000 - $800,000 ', '$420,000 to $460,000 ', '$360,000 - $380,000 ', '$420,000 ', '$650k to $680k ', 'Guide $690,000 | Book for private inspection ', 'Starting from $2,295,000 ', 'Price Guide $570,000 - $625,000 ', 'Price Guide $390,000 - $420,000 ', '$399,950-$429,950 ', 'Auction Guide $860,000 ', 'Price Guide $495,000 - $510,000 ', 'Buyers guide $585,000 ', '$449,950-$479,950 ', '$700,000 - $730,000 ', '$329,950 ALL INSPECTIONS ON HOLD ', '$695,000 - $745,000 ', 'Buyers guide $850,000 ', 'Price Range: $319,000-$339,000 ', '$319,950 ', '$500,000 - $550,000 ', '$675,000 | INSPECTION BY APPOINTMENT ONLY ', '$700,000 - $750,000 ', '$499,000 ', 'Guide $980,000 ', 'Auction guide $675,000 ', '$389,000 - $409,000 ', '$750k to $780k ', '$825,980 ', '$849,850 ', '$799,000 ', '$998,980 ', '$897,000 ', '$697,000 ', '$826,855 ', '$560,000 - $570,000 ', '$959,367 ', 'Guide $1,200,000 ', '$750,000 - $800,000 ', '$660,000 ', '$940,000 ', '$973,000 ', '$1,155,500 ', '$675,525 ', '$990,948 ', '$1,050,000 ', '$465,000 ', 'Price Guide $890,000 - $940,000 ', '$739,000 to $769,000 ', 'Guide $525,000 - $575,000 ', 'Price Guide $2,500,000 ', '$911,000 ', '$349,000 ', '$350,000 ', '$645,000 ', '$1,850,000 - $1,950,000 ', 'Price Guide $1,300,000 ', '$640,000 ', '$840,000 - $870,000 ', '$379,000 ', '$245,000 ', '$986,000 ', '$439,000 ', '$1,055,200 ', '$695,000 - $730,000 ', '$495,000 ', 'Buyer Guide $450,000 - $470,000 ', 'Guide $1,400,000 ', '$1,012,000 ', '$617,485 (House & Land) ', '$450,000 to $495,000 ', '$390,000 ', '$941,200 ', 'Price Range $780,000 - $810,000 each ', '$599,950 - $659,000 ', '$633,126 (House & Land) ', '$877,600 ', '$430,000 ', '$540,000 - $570,000 ', '$947,910 ', 'Price guide $700,000 - $750,000 ', '$625,000 ', '$550,000 ', '$396,659 ', 'Price Guide $3,850,000 ', '$699,950 - $759,950 ', 'From $1,014,000 ', '$145,000 ', '$579,000 ', '$429,000 - $449,000 ', '$771,000 ', '$450,000 - $490,000 ', 'Auction Price Guide - $900,000 ', 'Price Guide $2,400,000 ', 'From $1,041,000 ', '$1,000,000 - $1,100,000 ', '$199,000 ', '$715,000 ', '$570,000 ', '$859,000-$899,000 ', '$1,969,000 ', 'Price Guide $1,200,000 ', '$305,000 – Retirement ', 'Guide $725,000 - $795,000 ', 'PRICE RANGE: $550,000 - $575,000 ', '$849,000 - $899,000 ', '$750,000 - $800,000 ', '$660,000 ', '$825,000 ', 'Price  $690,000 - $720,000 ', '$620,000 - $670,000 ', 'Guide $300,000 ', '$930,000-$980,000 ', '$550,000 ', 'Auction Guide $2,200,000 ', 'GUIDE - $350,000 ', '$800,000 to $850,000 ', '$1,173,800 ', '$580,000 ', 'Price Guide $1,600,000 - $1,700,000 ', '$349,000 ', 'AUCTION - Bidding Guide $1,100,000 ', 'Price Guide $550,000 - $605,000 ', '$570,000 to $620,000 ', '$945,000 ', '$785,000 ', 'GUIDE $600,000 ', 'GUIDE $600,000 ', 'GUIDE $400,000 ', 'GUIDE $400,000 ', 'GUIDE $400,000 ', 'GUIDE $400,000 ', '$475,000 ', '$395,000 ', 'Offers Over $350,000 ', '$1,060,000 ', 'Price indicator $485,000 ', '$590,000 to $620,000 ', '$275,000 ', '$439,000 ', '$850,000 - $890,000 ', '$580,000 - $610,000 ', '$495,000 ', '$670,000 - $710,000 ', '$889,500 ', '$489,000 ', 'Buyers Guide $639,000 ', '$349,000 ', '$459,000 ', '$1,375,000 - $1,425,000 ', '$630,000 - $670,000 ', '$195,000 ', '$850,000 ', 'Guide $895,000-$950,000 ', '$429,000 ', 'Price Guide $800,000 - $850,000 ', 'Price Guide $850,000 ', '$750,000 - $800,000 ', '$750,000 - $820,000 ', '$800,000 to $880,000 ', '$784,100 ', '$722,124 ', '$877,075 ', '$775,525 ', '$838,825 ', '$941,000 ', '$879,000 ', '$1,015,600 ', '$959,900 ', '$897,900 ', '$699,000 ', '$1,450,000 - $1,550,000 ', '$970,825 ', '$942,325 ', '$913,325 ', '$886,961 ', '$850,986 ', '$877,000 ', '$1,099,990 ', '$930,000 ', '$1,029,000 ', '$956,000 ', '$923,000 ', '$1,100,000 - $1,200,000 ', '$850,000 ', '$995,000 ', '$497,000 ', '$2,250,000 ', '$755,000 ', '$860,000 to $890,000 ', '$740,000 - $790,000 ', '$679,000  $746,900 ', '$750,000 - $800,000 ', '$1,041,000 ', '$957,300 ', '$939,500 ', '$771,000 ', '$1,178,980 ', '$998,980 ', '$825,980 ', '$580,000 ', '$417 000 ', '$530,000 ', '$579,950 - $599,950 ', '$890,000 - $930,000 ', '$1,000,000 - $1,100,000 ', '$590,000 - $625,000 ', 'Retirement - $680,000 ', 'Price Guide $980,000 ', 'Price Guide $2,500,000 ', '$745,000 ', '$992,000 ', '$929,000 ', '$1,019,000 ', '$350,000 - $380,000 ', 'From $675,000 ', '$1.1M TO $1.16M  TORRENS TITLE ', 'Buyers Guide $3,700,000 ', '$739,000 ', 'From $685,000 ', '$475,000 ', '$345,000 ', 'Sudivision Potential + $3,360 Per Month Income ', '$1,300,000.00-$1,400,000.00 ', '$1,083,000 ', 'Guide $470,000 ', '$825,000 ', 'From $699,000 ', '$739,000 - $779,000 ', '$1,079,990 - Inspection By Appointment Only ', '$992,000 ', '$920,000 ', '$949,000 ', '$739,000 - $779,000 ', '$1,400,000 ', '$90,000 ', 'Price Guide $1,700,000 ', '$580,000 to $630,000 ', 'Price Guide $630,000 ', 'Price Guide $1,700,000 ', '$649,000 - $699,000 ', '$170,000 ', '$898,000 ', '$719,400 ', 'Guide $700,000 - $750,000 ', '$439,000 ', '$999,000 ', '$595,300 ', '$799,000 - $849,000 ', '$469,000 ', '$1,046,400 ', '$580,000 ', '$420,000 ', 'Offers over $550K ', '$898,900.00 ', '$849,850 ', '$650,000 to $700,000 ', '$769,000 ', '$719,990 ', 'Price guide $599,000 - $625,000 ', 'Price Guide: $780,000 - $820,000 ', 'Price Guide $1.58ml ', '$1,295,000 - $1,400,000 ', '$595,000 - $650,000 ', '$965,000 ', '$550,000 ', 'Auction - Guide $650,000 ', 'Price Guide $1,350,000 ', '$1,800,000 to $1,900,000 ', '$414,000 ', '$37,500 ', '$1,070,000 ', '$549,000 ', '$679,950 - $719,950 ', '$29,000 ', '$897,000 ', '$1,066,000 ', '$840,000 to $920,000 ', '$439,900 ', '$820,000 ', '$650,000 - $700,000 ', '$563,900 ', '$707,800 ', '$698,800 ', '$669,890 ', '$975,000 ', '$557,390 ', '$670,890 ', '$739,900 ', '$930,000 ', '$160,000 ', '$538,890 ', '$288,000 ', '$820,000-$860,000 ', '$520,000 - $550,000 ', '$1,600,000 ', '$1,199,990 ', '$800,000 - $880,000 ', '$894,000 ', 'Auction Guide $3,000,000 ', '$857,000 ', '$750,000 ', '$350,000 - $375,000 ', '$295,000 ', '$1,200,000 - $1,300,000 ', 'Guide $650,000 ', '$450,000 - $475,000 ', '$269,000 ', '$1,040,500 ', '$918,315 ', '$918,315 ', '$921,555 ', '$948,890 ', '$921,555 ', '$973,260 ', '$1,249,000 ', '$279,000 ', 'Auction Guide $2,350,000 ', '$420,000 ', '$1,090,000 ', '$1,090,000 ', '$1,070,000 ', 'Auction | Guide $800,000 ', '$930,000 ', '$649,881 ', '$736,604 ', '$1,400,000-$1,500,000 ', '$395,000 ', '$684,174 ', '$640,331 ', '$728,450 ', '$756,401 ', '$2,400,000 - $2,500,000 ', '$1,049,000 ', 'From $689,000 ', '$680,000 to $720,000 ', 'Guide $660,000 - $690,000 ', '$589,000 ', '$649,000 ', '$825,000 ', '$550,000 ', '$780,000 ', '$785,000 ', \"Buyer's Guide $2,850,000 \", '$350,000 ', '$370,000 ', '$549,000 ', '$870,000 - $910,000 ', '$510,000 ', '$790,000 - $850,000 ', '$850,000 - $900,000 ', 'Price Guide: $1,050,000 ', '$780,000 to $820,000 ', 'Auction | Guide $430,000 - $470,000 ', '$679,990 - $729,990 ', '$689,950 - $749,950 ', '$399,950-$439,950 ', '$780,000 - $830,000 ', 'Price Guide $629,000 to $649,000 ', '$709,270 ', '$880,000 - $900,000 ', '$695,000 - $750,000 ', '$450,000 - $495,000 ', '$230,000 ', '$225,000 ', 'For Sale $790,000 - $860,000 ', '$649,000 ', '$590,000 - $640,000 ', '$950,000 ', '$1,200,000 ', '$900,000 - $990,000 ', '$725,000 to $755,000 ', 'Price Guide $650,000-$700,000 ', '$849,000 ', 'Auction Price Guide $570,000 - $600,000 ', '$380,000 ', '$849,000 ', 'Price Guide $1.7ml ', '$175,000 ', '$439,000 ', '$570,000 - $620,000 ', 'Auction | Guide $400,000 - $440,000 ', '$899,999 ', 'Price Guide $840,000 - $880,000 ', 'Buyers guide $2,100,000 ', '$825,000-$850,000 ', 'Price Guide $1,500,000 ', '$749,000 ', '$630,000 - $660,000 ', '$250,000 ', 'Auction | Guide $1,300,000 ', 'Auction - Guide $690,000 - $750,000 ', 'Price Guide $1,150,000 to $1,250,000 ', 'FOR SALE $1,199,000 ', 'Guide $850,000 ', 'Guide $1,650,000 ', 'AUCTION GUIDE $299,000 ', '$879,990 ', '$1,150,000 - $1,250,000 ', '$780,000 - $840,000 ', '$470,000-$500,000 ', '$1,100,000 - Friendly Auction ', '$1,250,000 ', 'Price guide $4,500,000 ', 'Auction Guide $1,750,000 ', '$620K TO $650K ', '$1,450,000 - $1,500,000 ', '$675,000 - $725,000 ', '$189,000 - $209,000 ', '$1,100,000 - $1,200,000 ', 'Auction guide: $2,900,000 ', '$950000-$1020000 ', 'Guide: $1,000,000 - ONLINE AUCTION - 30TH JULY 6PM ', '$380,000 - $400,000 ', 'For Sale $2,150,000 ', '$509,000 ', '$460,000 - $480,000 ', '$450,000 - $480,000 ', '$620,000 ', 'AUCTION  Price Guide $1,000,000 - $1,100,000 ', '$740,000 ', 'Auction Guide $695,000 ', '$945,000-$995,000 ', '$259,000 ', 'Price Guide $495,000 to $535,000 ', '$680,000 - $700,000 ', 'Buyers Guide $1,300,000 ', '$430,000 - $450,000 ', '$350,000 ', 'Price Guide $1,850,000 ', 'AUCTION  - Guide $750,000 ', 'Guide $1,600,000 ', '$365,000 - $385,000 ', 'Auction Guide $750,000 ', 'Just Listed! Guide $899,990- $930,000 ', '$1,125,000 - $1,225,000 ', 'Bidders Guide $800,000 ', 'Guide - $190,000 - $209,000 ', 'Price Guide $1,200,000 ', 'Auction Guide - $2,750,000 ', '$2,150,000 ', '$279,000 ', 'Guide $1,150,000 ', 'GUIDE - $300,000 ', '$639,000 ', 'Price Guide $2,900,000 ', '$590,000 - $640,000 ', 'Price Guide $2,100,000 ', '$480,000 - $500,000 ', 'Guide $2,650,000 ', '$525,000 - $550,000 ', '$550,000 - $575,000 ', '$1,185,000 - $1,235,000 ', '$1,600,000 to $1,700,000 ', '$780,000 - $840,000 ', 'Guide - $1,250,000 Friendly Auction ', '$999,999 - $1,099,998 BER ', 'Price Guide $690,000 - $720,000 ', 'Price Guide $635,000 ', 'Price Guide $579,000 ', '$550,000 - $600,000 ', '$1,600,000 - $1,700,000 ', '$300,000 - $330,000 ', 'Guide $900,000 - $990,000 ', '$825,000 ', '$650,000 - $700,000 ', 'Auction Guide $925000 - $995000 ', '$750,000: Contact us for Inspection! ', '$450,000 ', '$700,000 - $750,000 ', '$730,000 - $770,000 ', 'For Sale Guide $3,900,000 - $4,200,000 ', 'Auction Guide $690,000 ', 'Price Guide $1,800,000 ', '$679,000 ', '$340,000-$370,000 ', '$735,000 ', '$1,100,000 - $1,200,000 ', 'Price Guide $2,500,000 - $2,750,000 ', '$550,000 - $580,000 ', '$700,000 - $770,000 ', 'AUCTION  - Guide $650,000 ', '$310,000 - $335,000 ', '$890,000 - $940,000 ', 'Price Guide $675,000 ', 'Auction Guide $820,000 ', '$1,100,000 ', 'Guide $2,550,000 ', '$345,000 - $365,000 ']\n"
     ]
    }
   ],
   "source": [
    "print(newPriceData)"
   ]
  },
  {
   "cell_type": "code",
   "execution_count": null,
   "id": "d9ba511a",
   "metadata": {},
   "outputs": [],
   "source": []
  }
 ],
 "metadata": {
  "kernelspec": {
   "display_name": "Python 3",
   "language": "python",
   "name": "python3"
  },
  "language_info": {
   "codemirror_mode": {
    "name": "ipython",
    "version": 3
   },
   "file_extension": ".py",
   "mimetype": "text/x-python",
   "name": "python",
   "nbconvert_exporter": "python",
   "pygments_lexer": "ipython3",
   "version": "3.8.8"
  }
 },
 "nbformat": 4,
 "nbformat_minor": 5
}
