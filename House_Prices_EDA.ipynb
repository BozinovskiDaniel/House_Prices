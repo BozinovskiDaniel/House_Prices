{
 "cells": [
  {
   "cell_type": "markdown",
   "id": "d69397de",
   "metadata": {},
   "source": [
    "# House Prices Exploratory Data Analysis\n",
    "\n",
    "This notebook will entail a detailed process of analysis & feature engineering in an attempt to build a Machine Learning model that accuractely predicts house prices.\n",
    "\n",
    "<b>@DanielBozinovski</b>"
   ]
  },
  {
   "cell_type": "markdown",
   "id": "bb8ad4e5",
   "metadata": {},
   "source": [
    "# Steps to Perform:\n",
    "\n",
    "1. Clean Data\n",
    "2. Explore Data\n",
    "3. Feature Engineering\n",
    "4. Create Model\n",
    "5. Make Predictions\n",
    "6. Test Predictions"
   ]
  },
  {
   "cell_type": "code",
   "execution_count": 31,
   "id": "476bc980",
   "metadata": {},
   "outputs": [],
   "source": [
    "# Imports\n",
    "import numpy as np # linear algebra\n",
    "import pandas as pd # data processing\n",
    "import matplotlib.pyplot as plt # plotting\n",
    "import seaborn as sns\n",
    "%matplotlib inline"
   ]
  },
  {
   "cell_type": "code",
   "execution_count": 6,
   "id": "9fdb78b0",
   "metadata": {},
   "outputs": [],
   "source": [
    "df = pd.read_csv(\"HouseData.csv\") # Read csv"
   ]
  },
  {
   "cell_type": "code",
   "execution_count": 7,
   "id": "6ac75de7",
   "metadata": {},
   "outputs": [
    {
     "data": {
      "text/html": [
       "<div>\n",
       "<style scoped>\n",
       "    .dataframe tbody tr th:only-of-type {\n",
       "        vertical-align: middle;\n",
       "    }\n",
       "\n",
       "    .dataframe tbody tr th {\n",
       "        vertical-align: top;\n",
       "    }\n",
       "\n",
       "    .dataframe thead th {\n",
       "        text-align: right;\n",
       "    }\n",
       "</style>\n",
       "<table border=\"1\" class=\"dataframe\">\n",
       "  <thead>\n",
       "    <tr style=\"text-align: right;\">\n",
       "      <th></th>\n",
       "      <th>Unnamed: 0</th>\n",
       "      <th>Price</th>\n",
       "      <th>Suburb</th>\n",
       "      <th>Region</th>\n",
       "      <th>Postcode</th>\n",
       "      <th>Address</th>\n",
       "      <th>Size (m^2)</th>\n",
       "      <th>Property Type</th>\n",
       "      <th>Beds</th>\n",
       "      <th>Baths</th>\n",
       "      <th>Parking</th>\n",
       "      <th>URL</th>\n",
       "    </tr>\n",
       "  </thead>\n",
       "  <tbody>\n",
       "    <tr>\n",
       "      <th>0</th>\n",
       "      <td>0</td>\n",
       "      <td>$520,000</td>\n",
       "      <td>HURSTVILLE</td>\n",
       "      <td>NSW</td>\n",
       "      <td>2220</td>\n",
       "      <td>6/68 Park Road,</td>\n",
       "      <td>NaN</td>\n",
       "      <td>Apartment / Unit / Flat</td>\n",
       "      <td>NaN</td>\n",
       "      <td>NaN</td>\n",
       "      <td>NaN</td>\n",
       "      <td>https://www.domain.com.au/6-68-park-road-hurst...</td>\n",
       "    </tr>\n",
       "    <tr>\n",
       "      <th>1</th>\n",
       "      <td>1</td>\n",
       "      <td>$620,000 - $650,000</td>\n",
       "      <td>HURSTVILLE</td>\n",
       "      <td>NSW</td>\n",
       "      <td>2220</td>\n",
       "      <td>1008/460 Forest Road,</td>\n",
       "      <td>NaN</td>\n",
       "      <td>Apartment / Unit / Flat</td>\n",
       "      <td>NaN</td>\n",
       "      <td>NaN</td>\n",
       "      <td>NaN</td>\n",
       "      <td>https://www.domain.com.au/1008-460-forest-road...</td>\n",
       "    </tr>\n",
       "    <tr>\n",
       "      <th>2</th>\n",
       "      <td>2</td>\n",
       "      <td>For Sale</td>\n",
       "      <td>CARINGBAH</td>\n",
       "      <td>NSW</td>\n",
       "      <td>2229</td>\n",
       "      <td>41/137-143 Willarong Road,</td>\n",
       "      <td>NaN</td>\n",
       "      <td>Apartment / Unit / Flat</td>\n",
       "      <td>NaN</td>\n",
       "      <td>NaN</td>\n",
       "      <td>NaN</td>\n",
       "      <td>https://www.domain.com.au/41-137-143-willarong...</td>\n",
       "    </tr>\n",
       "    <tr>\n",
       "      <th>3</th>\n",
       "      <td>3</td>\n",
       "      <td>Just Listed</td>\n",
       "      <td>WESTMEAD</td>\n",
       "      <td>NSW</td>\n",
       "      <td>2145</td>\n",
       "      <td>8/17 Caroline Street,</td>\n",
       "      <td>NaN</td>\n",
       "      <td>Apartment / Unit / Flat</td>\n",
       "      <td>NaN</td>\n",
       "      <td>NaN</td>\n",
       "      <td>NaN</td>\n",
       "      <td>https://www.domain.com.au/8-17-caroline-street...</td>\n",
       "    </tr>\n",
       "    <tr>\n",
       "      <th>4</th>\n",
       "      <td>4</td>\n",
       "      <td>$439,000</td>\n",
       "      <td>BLACKTOWN</td>\n",
       "      <td>NSW</td>\n",
       "      <td>2148</td>\n",
       "      <td>6/8-10 Fourth Avenue,</td>\n",
       "      <td>NaN</td>\n",
       "      <td>Apartment / Unit / Flat</td>\n",
       "      <td>NaN</td>\n",
       "      <td>NaN</td>\n",
       "      <td>NaN</td>\n",
       "      <td>https://www.domain.com.au/6-8-10-fourth-avenue...</td>\n",
       "    </tr>\n",
       "  </tbody>\n",
       "</table>\n",
       "</div>"
      ],
      "text/plain": [
       "   Unnamed: 0                 Price      Suburb Region  Postcode  \\\n",
       "0           0             $520,000   HURSTVILLE    NSW      2220   \n",
       "1           1  $620,000 - $650,000   HURSTVILLE    NSW      2220   \n",
       "2           2             For Sale    CARINGBAH    NSW      2229   \n",
       "3           3          Just Listed     WESTMEAD    NSW      2145   \n",
       "4           4             $439,000    BLACKTOWN    NSW      2148   \n",
       "\n",
       "                       Address Size (m^2)            Property Type Beds Baths  \\\n",
       "0             6/68 Park Road,         NaN  Apartment / Unit / Flat  NaN   NaN   \n",
       "1       1008/460 Forest Road,         NaN  Apartment / Unit / Flat  NaN   NaN   \n",
       "2  41/137-143 Willarong Road,         NaN  Apartment / Unit / Flat  NaN   NaN   \n",
       "3       8/17 Caroline Street,         NaN  Apartment / Unit / Flat  NaN   NaN   \n",
       "4       6/8-10 Fourth Avenue,         NaN  Apartment / Unit / Flat  NaN   NaN   \n",
       "\n",
       "  Parking                                                URL  \n",
       "0     NaN  https://www.domain.com.au/6-68-park-road-hurst...  \n",
       "1     NaN  https://www.domain.com.au/1008-460-forest-road...  \n",
       "2     NaN  https://www.domain.com.au/41-137-143-willarong...  \n",
       "3     NaN  https://www.domain.com.au/8-17-caroline-street...  \n",
       "4     NaN  https://www.domain.com.au/6-8-10-fourth-avenue...  "
      ]
     },
     "execution_count": 7,
     "metadata": {},
     "output_type": "execute_result"
    }
   ],
   "source": [
    "df.head()"
   ]
  },
  {
   "cell_type": "code",
   "execution_count": 18,
   "id": "f87c5701",
   "metadata": {},
   "outputs": [
    {
     "data": {
      "text/plain": [
       "Unnamed: 0         0\n",
       "Price              0\n",
       "Suburb             0\n",
       "Region             0\n",
       "Postcode           0\n",
       "Address           75\n",
       "Size (m^2)       597\n",
       "Property Type      0\n",
       "Beds             597\n",
       "Baths            597\n",
       "Parking          597\n",
       "URL                0\n",
       "dtype: int64"
      ]
     },
     "execution_count": 18,
     "metadata": {},
     "output_type": "execute_result"
    }
   ],
   "source": [
    "# Check what features have missing values\n",
    "df.isnull().sum()"
   ]
  },
  {
   "cell_type": "markdown",
   "id": "5ba021ee",
   "metadata": {},
   "source": [
    "It appears as though Size/Beds/Baths/Parking seems to have a significant amount of missing values. We will try checking what property type they are mainly coming from"
   ]
  },
  {
   "cell_type": "code",
   "execution_count": 23,
   "id": "25fc7561",
   "metadata": {},
   "outputs": [
    {
     "data": {
      "text/plain": [
       "650"
      ]
     },
     "execution_count": 23,
     "metadata": {},
     "output_type": "execute_result"
    }
   ],
   "source": [
    "# Get data with empty values\n",
    "dataWithEmptyValues = df[df.isnull().any(axis=1)]\n",
    "len(dataWithEmptyValues)"
   ]
  },
  {
   "cell_type": "code",
   "execution_count": 29,
   "id": "e2c5f009",
   "metadata": {},
   "outputs": [
    {
     "data": {
      "text/plain": [
       "Apartment / Unit / Flat          369\n",
       "House                            148\n",
       "House & Land                      44\n",
       "New Apartments / Off the Plan     33\n",
       "Villa                             18\n",
       "Retirement Living                 12\n",
       "Semi-Detached                     10\n",
       "Duplex                             7\n",
       "Studio                             5\n",
       "Block of Units                     3\n",
       "Terrace                            1\n",
       "Name: Property Type, dtype: int64"
      ]
     },
     "execution_count": 29,
     "metadata": {},
     "output_type": "execute_result"
    }
   ],
   "source": [
    "# Look at the amounts that each property type has missing data\n",
    "propertyAmounts = dataWithEmptyValues['Property Type'].value_counts()\n",
    "propertyAmounts"
   ]
  },
  {
   "cell_type": "code",
   "execution_count": 71,
   "id": "d145d6f0",
   "metadata": {},
   "outputs": [
    {
     "data": {
      "text/plain": [
       "<AxesSubplot:xlabel='count', ylabel='Property Type'>"
      ]
     },
     "execution_count": 71,
     "metadata": {},
     "output_type": "execute_result"
    },
    {
     "data": {
      "image/png": "[encoded data removed]",
      "text/plain": [
       "<Figure size 1296x504 with 1 Axes>"
      ]
     },
     "metadata": {
      "needs_background": "light"
     },
     "output_type": "display_data"
    }
   ],
   "source": [
    "fig, ax = plt.subplots(1, 1, figsize=(18, 7))\n",
    "sns.countplot(y=\"Property Type\", data=dataWithEmptyValues)"
   ]
  },
  {
   "cell_type": "code",
   "execution_count": 16,
   "id": "9f58cbef",
   "metadata": {},
   "outputs": [
    {
     "data": {
      "text/plain": [
       "645"
      ]
     },
     "execution_count": 16,
     "metadata": {},
     "output_type": "execute_result"
    }
   ],
   "source": [
    "# There appears to be 645 unique suburbs in this dataset\n",
    "df['Suburb'].nunique()"
   ]
  },
  {
   "cell_type": "code",
   "execution_count": 15,
   "id": "a6fceaf9",
   "metadata": {},
   "outputs": [
    {
     "data": {
      "text/plain": [
       "SCHOFIELDS         22\n",
       "RIVERSTONE         21\n",
       "BOX HILL           18\n",
       "LIDCOMBE           16\n",
       "SPRING FARM        15\n",
       "                   ..\n",
       "HAMMONDVILLE        1\n",
       "WHEELER HEIGHTS     1\n",
       "NORTH NARRABEEN     1\n",
       "WOODFORD            1\n",
       "WILEY PARK          1\n",
       "Name: Suburb, Length: 645, dtype: int64"
      ]
     },
     "execution_count": 15,
     "metadata": {},
     "output_type": "execute_result"
    }
   ],
   "source": [
    "df['Suburb'].value_counts()"
   ]
  },
  {
   "cell_type": "code",
   "execution_count": null,
   "id": "d39a9591",
   "metadata": {},
   "outputs": [],
   "source": []
  }
 ],
 "metadata": {
  "kernelspec": {
   "display_name": "Python 3",
   "language": "python",
   "name": "python3"
  },
  "language_info": {
   "codemirror_mode": {
    "name": "ipython",
    "version": 3
   },
   "file_extension": ".py",
   "mimetype": "text/x-python",
   "name": "python",
   "nbconvert_exporter": "python",
   "pygments_lexer": "ipython3",
   "version": "3.8.8"
  }
 },
 "nbformat": 4,
 "nbformat_minor": 5
}
